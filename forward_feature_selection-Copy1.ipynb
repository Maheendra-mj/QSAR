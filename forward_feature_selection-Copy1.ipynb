{
 "cells": [
  {
   "cell_type": "code",
   "execution_count": 1,
   "id": "aba2bdbf",
   "metadata": {},
   "outputs": [],
   "source": [
    "import pandas as pd\n",
    "from mlxtend.feature_selection import SequentialFeatureSelector\n"
   ]
  },
  {
   "cell_type": "code",
   "execution_count": null,
   "id": "6a111cac",
   "metadata": {},
   "outputs": [],
   "source": [
    "import numpy as np\n",
    "import pandas as pd"
   ]
  },
  {
   "cell_type": "code",
   "execution_count": 2,
   "id": "01b534d1",
   "metadata": {},
   "outputs": [],
   "source": [
    "df=pd.read_csv(r\"C:\\Users\\mahee\\OneDrive\\Desktop\\final submission\\df.csv\")"
   ]
  },
  {
   "cell_type": "code",
   "execution_count": 3,
   "id": "dc1da6f4",
   "metadata": {},
   "outputs": [
    {
     "data": {
      "text/html": [
       "<div>\n",
       "<style scoped>\n",
       "    .dataframe tbody tr th:only-of-type {\n",
       "        vertical-align: middle;\n",
       "    }\n",
       "\n",
       "    .dataframe tbody tr th {\n",
       "        vertical-align: top;\n",
       "    }\n",
       "\n",
       "    .dataframe thead th {\n",
       "        text-align: right;\n",
       "    }\n",
       "</style>\n",
       "<table border=\"1\" class=\"dataframe\">\n",
       "  <thead>\n",
       "    <tr style=\"text-align: right;\">\n",
       "      <th></th>\n",
       "      <th>ABC</th>\n",
       "      <th>VR1_A</th>\n",
       "      <th>nAromAtom</th>\n",
       "      <th>nHetero</th>\n",
       "      <th>nN</th>\n",
       "      <th>nO</th>\n",
       "      <th>nS</th>\n",
       "      <th>nF</th>\n",
       "      <th>nCl</th>\n",
       "      <th>nX</th>\n",
       "      <th>...</th>\n",
       "      <th>n6ARing</th>\n",
       "      <th>nFRing</th>\n",
       "      <th>n9FRing</th>\n",
       "      <th>SLogP</th>\n",
       "      <th>TopoPSA(NO)</th>\n",
       "      <th>TopoPSA</th>\n",
       "      <th>GGI4</th>\n",
       "      <th>GGI5</th>\n",
       "      <th>TSRW10</th>\n",
       "      <th>pIC50 (IC50 in microM)</th>\n",
       "    </tr>\n",
       "  </thead>\n",
       "  <tbody>\n",
       "    <tr>\n",
       "      <th>0</th>\n",
       "      <td>16.567764</td>\n",
       "      <td>173.500156</td>\n",
       "      <td>12</td>\n",
       "      <td>6</td>\n",
       "      <td>1</td>\n",
       "      <td>2</td>\n",
       "      <td>0</td>\n",
       "      <td>1</td>\n",
       "      <td>1</td>\n",
       "      <td>3</td>\n",
       "      <td>...</td>\n",
       "      <td>0</td>\n",
       "      <td>1</td>\n",
       "      <td>1</td>\n",
       "      <td>3.81320</td>\n",
       "      <td>37.38</td>\n",
       "      <td>37.38</td>\n",
       "      <td>1.346667</td>\n",
       "      <td>0.979722</td>\n",
       "      <td>69.842002</td>\n",
       "      <td>-0.973128</td>\n",
       "    </tr>\n",
       "    <tr>\n",
       "      <th>1</th>\n",
       "      <td>18.489935</td>\n",
       "      <td>237.984236</td>\n",
       "      <td>12</td>\n",
       "      <td>10</td>\n",
       "      <td>3</td>\n",
       "      <td>1</td>\n",
       "      <td>1</td>\n",
       "      <td>4</td>\n",
       "      <td>1</td>\n",
       "      <td>5</td>\n",
       "      <td>...</td>\n",
       "      <td>0</td>\n",
       "      <td>0</td>\n",
       "      <td>0</td>\n",
       "      <td>4.32712</td>\n",
       "      <td>54.88</td>\n",
       "      <td>80.18</td>\n",
       "      <td>1.924444</td>\n",
       "      <td>0.618056</td>\n",
       "      <td>58.333894</td>\n",
       "      <td>-2.698970</td>\n",
       "    </tr>\n",
       "    <tr>\n",
       "      <th>2</th>\n",
       "      <td>16.470305</td>\n",
       "      <td>170.623517</td>\n",
       "      <td>16</td>\n",
       "      <td>6</td>\n",
       "      <td>1</td>\n",
       "      <td>4</td>\n",
       "      <td>0</td>\n",
       "      <td>0</td>\n",
       "      <td>1</td>\n",
       "      <td>1</td>\n",
       "      <td>...</td>\n",
       "      <td>0</td>\n",
       "      <td>1</td>\n",
       "      <td>0</td>\n",
       "      <td>3.06060</td>\n",
       "      <td>69.40</td>\n",
       "      <td>69.40</td>\n",
       "      <td>1.408889</td>\n",
       "      <td>0.659722</td>\n",
       "      <td>54.930544</td>\n",
       "      <td>0.966576</td>\n",
       "    </tr>\n",
       "    <tr>\n",
       "      <th>3</th>\n",
       "      <td>19.908288</td>\n",
       "      <td>170.657005</td>\n",
       "      <td>11</td>\n",
       "      <td>5</td>\n",
       "      <td>0</td>\n",
       "      <td>5</td>\n",
       "      <td>0</td>\n",
       "      <td>0</td>\n",
       "      <td>0</td>\n",
       "      <td>0</td>\n",
       "      <td>...</td>\n",
       "      <td>2</td>\n",
       "      <td>1</td>\n",
       "      <td>0</td>\n",
       "      <td>3.40102</td>\n",
       "      <td>73.58</td>\n",
       "      <td>73.58</td>\n",
       "      <td>2.600556</td>\n",
       "      <td>1.361389</td>\n",
       "      <td>74.974487</td>\n",
       "      <td>-1.324282</td>\n",
       "    </tr>\n",
       "    <tr>\n",
       "      <th>4</th>\n",
       "      <td>26.784946</td>\n",
       "      <td>1073.466924</td>\n",
       "      <td>23</td>\n",
       "      <td>12</td>\n",
       "      <td>4</td>\n",
       "      <td>2</td>\n",
       "      <td>1</td>\n",
       "      <td>3</td>\n",
       "      <td>2</td>\n",
       "      <td>5</td>\n",
       "      <td>...</td>\n",
       "      <td>0</td>\n",
       "      <td>0</td>\n",
       "      <td>0</td>\n",
       "      <td>6.85500</td>\n",
       "      <td>80.91</td>\n",
       "      <td>106.21</td>\n",
       "      <td>1.752778</td>\n",
       "      <td>1.188056</td>\n",
       "      <td>83.905973</td>\n",
       "      <td>-1.176091</td>\n",
       "    </tr>\n",
       "  </tbody>\n",
       "</table>\n",
       "<p>5 rows × 247 columns</p>\n",
       "</div>"
      ],
      "text/plain": [
       "         ABC        VR1_A  nAromAtom  nHetero  nN  nO  nS  nF  nCl  nX  ...  \\\n",
       "0  16.567764   173.500156         12        6   1   2   0   1    1   3  ...   \n",
       "1  18.489935   237.984236         12       10   3   1   1   4    1   5  ...   \n",
       "2  16.470305   170.623517         16        6   1   4   0   0    1   1  ...   \n",
       "3  19.908288   170.657005         11        5   0   5   0   0    0   0  ...   \n",
       "4  26.784946  1073.466924         23       12   4   2   1   3    2   5  ...   \n",
       "\n",
       "   n6ARing  nFRing  n9FRing    SLogP  TopoPSA(NO)  TopoPSA      GGI4  \\\n",
       "0        0       1        1  3.81320        37.38    37.38  1.346667   \n",
       "1        0       0        0  4.32712        54.88    80.18  1.924444   \n",
       "2        0       1        0  3.06060        69.40    69.40  1.408889   \n",
       "3        2       1        0  3.40102        73.58    73.58  2.600556   \n",
       "4        0       0        0  6.85500        80.91   106.21  1.752778   \n",
       "\n",
       "       GGI5     TSRW10  pIC50 (IC50 in microM)  \n",
       "0  0.979722  69.842002               -0.973128  \n",
       "1  0.618056  58.333894               -2.698970  \n",
       "2  0.659722  54.930544                0.966576  \n",
       "3  1.361389  74.974487               -1.324282  \n",
       "4  1.188056  83.905973               -1.176091  \n",
       "\n",
       "[5 rows x 247 columns]"
      ]
     },
     "execution_count": 3,
     "metadata": {},
     "output_type": "execute_result"
    }
   ],
   "source": [
    "df.head()"
   ]
  },
  {
   "cell_type": "code",
   "execution_count": 4,
   "id": "3149e991",
   "metadata": {
    "scrolled": true
   },
   "outputs": [
    {
     "data": {
      "text/plain": [
       "(84, 247)"
      ]
     },
     "execution_count": 4,
     "metadata": {},
     "output_type": "execute_result"
    }
   ],
   "source": [
    "df.shape"
   ]
  },
  {
   "cell_type": "code",
   "execution_count": 5,
   "id": "4d43ab9b",
   "metadata": {
    "scrolled": true
   },
   "outputs": [
    {
     "data": {
      "text/plain": [
       "ABC                       0\n",
       "VR1_A                     0\n",
       "nAromAtom                 0\n",
       "nHetero                   0\n",
       "nN                        0\n",
       "                         ..\n",
       "TopoPSA                   0\n",
       "GGI4                      0\n",
       "GGI5                      0\n",
       "TSRW10                    0\n",
       "pIC50 (IC50 in microM)    0\n",
       "Length: 247, dtype: int64"
      ]
     },
     "execution_count": 5,
     "metadata": {},
     "output_type": "execute_result"
    }
   ],
   "source": [
    "df.isnull().sum()"
   ]
  },
  {
   "cell_type": "code",
   "execution_count": 6,
   "id": "b21d2b42",
   "metadata": {},
   "outputs": [],
   "source": [
    "X=df.drop(columns=\"pIC50 (IC50 in microM)\",axis=1)\n",
    "Y=df[\"pIC50 (IC50 in microM)\"]"
   ]
  },
  {
   "cell_type": "code",
   "execution_count": 14,
   "id": "62dfd26f",
   "metadata": {},
   "outputs": [],
   "source": [
    "from sklearn.model_selection import train_test_split\n",
    "X_train,X_test,Y_train,Y_test=train_test_split(mj,Y,test_size=0.3,random_state=42)"
   ]
  },
  {
   "cell_type": "code",
   "execution_count": 8,
   "id": "bdc5b0c4",
   "metadata": {},
   "outputs": [],
   "source": [
    "from sklearn.ensemble import RandomForestRegressor"
   ]
  },
  {
   "cell_type": "code",
   "execution_count": 15,
   "id": "102551ba",
   "metadata": {
    "scrolled": false
   },
   "outputs": [
    {
     "data": {
      "text/plain": [
       "(58, 30)"
      ]
     },
     "execution_count": 15,
     "metadata": {},
     "output_type": "execute_result"
    }
   ],
   "source": [
    "X_train.shape"
   ]
  },
  {
   "cell_type": "code",
   "execution_count": 12,
   "id": "685a756a",
   "metadata": {},
   "outputs": [],
   "source": [
    "mj=[\"NssssC\",\"NaaN\",\"NssS\",\"NddssS\",\"SdssC\",\"MAXdO\",\"MINdO\",\"ETA_beta_ns_d\",\"nHBDon\",\"ZMIC3\",\"PEOE_VSA10\",\"PEOE_VSA12\",\"SMR_VSA3\",\"SMR_VSA4\",\"SlogP_VSA3\",\"SlogP_VSA5\",\"SlogP_VSA8\",\"EState_VSA5\",\"EState_VSA8\",\"VSA_EState1\",\"VSA_EState2\",\"VSA_EState3\",\"VSA_EState4\",\"VSA_EState8\",\"VSA_EState9\",\"n6aRing\",\"naHRing\",\"n6aHRing\",\"n6ARing\",\"TopoPSA\"]\n",
    "mj=X[mj].copy()"
   ]
  },
  {
   "cell_type": "code",
   "execution_count": 13,
   "id": "df749645",
   "metadata": {},
   "outputs": [
    {
     "data": {
      "text/plain": [
       "(84, 30)"
      ]
     },
     "execution_count": 13,
     "metadata": {},
     "output_type": "execute_result"
    }
   ],
   "source": [
    "mj.shape"
   ]
  },
  {
   "cell_type": "code",
   "execution_count": 10,
   "id": "c7f5ead2",
   "metadata": {},
   "outputs": [],
   "source": [
    "regressor = RandomForestRegressor(n_jobs=-1)\n"
   ]
  },
  {
   "cell_type": "code",
   "execution_count": 11,
   "id": "3ee79b34",
   "metadata": {},
   "outputs": [],
   "source": [
    "forward_feature_selection = SequentialFeatureSelector(regressor,\n",
    "                                                      k_features=12,\n",
    "                                                      forward=True,\n",
    "                                                      floating=False,\n",
    "                                                      verbose=2,\n",
    "                                                      scoring=\"r2\",\n",
    "                                                      cv=5)"
   ]
  },
  {
   "cell_type": "code",
   "execution_count": 16,
   "id": "e11a16a2",
   "metadata": {
    "scrolled": true
   },
   "outputs": [
    {
     "name": "stderr",
     "output_type": "stream",
     "text": [
      "[Parallel(n_jobs=1)]: Using backend SequentialBackend with 1 concurrent workers.\n",
      "[Parallel(n_jobs=1)]: Done   1 out of   1 | elapsed:    3.1s remaining:    0.0s\n",
      "[Parallel(n_jobs=1)]: Done  30 out of  30 | elapsed:   42.9s finished\n",
      "\n",
      "[2023-07-02 01:56:57] Features: 1/12 -- score: 0.11516253813883279[Parallel(n_jobs=1)]: Using backend SequentialBackend with 1 concurrent workers.\n",
      "[Parallel(n_jobs=1)]: Done   1 out of   1 | elapsed:    1.3s remaining:    0.0s\n",
      "[Parallel(n_jobs=1)]: Done  29 out of  29 | elapsed:   40.0s finished\n",
      "\n",
      "[2023-07-02 01:57:37] Features: 2/12 -- score: 0.30684033205819017[Parallel(n_jobs=1)]: Using backend SequentialBackend with 1 concurrent workers.\n",
      "[Parallel(n_jobs=1)]: Done   1 out of   1 | elapsed:    1.2s remaining:    0.0s\n",
      "[Parallel(n_jobs=1)]: Done  28 out of  28 | elapsed:   38.7s finished\n",
      "\n",
      "[2023-07-02 01:58:16] Features: 3/12 -- score: 0.4047598537930668[Parallel(n_jobs=1)]: Using backend SequentialBackend with 1 concurrent workers.\n",
      "[Parallel(n_jobs=1)]: Done   1 out of   1 | elapsed:    1.4s remaining:    0.0s\n",
      "[Parallel(n_jobs=1)]: Done  27 out of  27 | elapsed:   42.2s finished\n",
      "\n",
      "[2023-07-02 01:58:58] Features: 4/12 -- score: 0.4313112796750255[Parallel(n_jobs=1)]: Using backend SequentialBackend with 1 concurrent workers.\n",
      "[Parallel(n_jobs=1)]: Done   1 out of   1 | elapsed:    1.5s remaining:    0.0s\n",
      "[Parallel(n_jobs=1)]: Done  26 out of  26 | elapsed:   37.3s finished\n",
      "\n",
      "[2023-07-02 01:59:36] Features: 5/12 -- score: 0.4697604330666011[Parallel(n_jobs=1)]: Using backend SequentialBackend with 1 concurrent workers.\n",
      "[Parallel(n_jobs=1)]: Done   1 out of   1 | elapsed:    1.4s remaining:    0.0s\n",
      "[Parallel(n_jobs=1)]: Done  25 out of  25 | elapsed:   35.0s finished\n",
      "\n",
      "[2023-07-02 02:00:11] Features: 6/12 -- score: 0.49085201833945485[Parallel(n_jobs=1)]: Using backend SequentialBackend with 1 concurrent workers.\n",
      "[Parallel(n_jobs=1)]: Done   1 out of   1 | elapsed:    1.4s remaining:    0.0s\n",
      "[Parallel(n_jobs=1)]: Done  24 out of  24 | elapsed:   35.3s finished\n",
      "\n",
      "[2023-07-02 02:00:46] Features: 7/12 -- score: 0.5326716109417691[Parallel(n_jobs=1)]: Using backend SequentialBackend with 1 concurrent workers.\n",
      "[Parallel(n_jobs=1)]: Done   1 out of   1 | elapsed:    1.3s remaining:    0.0s\n",
      "[Parallel(n_jobs=1)]: Done  23 out of  23 | elapsed:   32.4s finished\n",
      "\n",
      "[2023-07-02 02:01:19] Features: 8/12 -- score: 0.5059258744049779[Parallel(n_jobs=1)]: Using backend SequentialBackend with 1 concurrent workers.\n",
      "[Parallel(n_jobs=1)]: Done   1 out of   1 | elapsed:    1.2s remaining:    0.0s\n",
      "[Parallel(n_jobs=1)]: Done  22 out of  22 | elapsed:   30.7s finished\n",
      "\n",
      "[2023-07-02 02:01:49] Features: 9/12 -- score: 0.5177069363498822[Parallel(n_jobs=1)]: Using backend SequentialBackend with 1 concurrent workers.\n",
      "[Parallel(n_jobs=1)]: Done   1 out of   1 | elapsed:    1.3s remaining:    0.0s\n",
      "[Parallel(n_jobs=1)]: Done  21 out of  21 | elapsed:   29.8s finished\n",
      "\n",
      "[2023-07-02 02:02:19] Features: 10/12 -- score: 0.5087773831254135[Parallel(n_jobs=1)]: Using backend SequentialBackend with 1 concurrent workers.\n",
      "[Parallel(n_jobs=1)]: Done   1 out of   1 | elapsed:    1.3s remaining:    0.0s\n",
      "[Parallel(n_jobs=1)]: Done  20 out of  20 | elapsed:   28.7s finished\n",
      "\n",
      "[2023-07-02 02:02:48] Features: 11/12 -- score: 0.5303068819659461[Parallel(n_jobs=1)]: Using backend SequentialBackend with 1 concurrent workers.\n",
      "[Parallel(n_jobs=1)]: Done   1 out of   1 | elapsed:    1.3s remaining:    0.0s\n",
      "[Parallel(n_jobs=1)]: Done  19 out of  19 | elapsed:   26.9s finished\n",
      "\n",
      "[2023-07-02 02:03:15] Features: 12/12 -- score: 0.5044133991262598"
     ]
    },
    {
     "data": {
      "text/html": [
       "<style>#sk-container-id-1 {color: black;background-color: white;}#sk-container-id-1 pre{padding: 0;}#sk-container-id-1 div.sk-toggleable {background-color: white;}#sk-container-id-1 label.sk-toggleable__label {cursor: pointer;display: block;width: 100%;margin-bottom: 0;padding: 0.3em;box-sizing: border-box;text-align: center;}#sk-container-id-1 label.sk-toggleable__label-arrow:before {content: \"▸\";float: left;margin-right: 0.25em;color: #696969;}#sk-container-id-1 label.sk-toggleable__label-arrow:hover:before {color: black;}#sk-container-id-1 div.sk-estimator:hover label.sk-toggleable__label-arrow:before {color: black;}#sk-container-id-1 div.sk-toggleable__content {max-height: 0;max-width: 0;overflow: hidden;text-align: left;background-color: #f0f8ff;}#sk-container-id-1 div.sk-toggleable__content pre {margin: 0.2em;color: black;border-radius: 0.25em;background-color: #f0f8ff;}#sk-container-id-1 input.sk-toggleable__control:checked~div.sk-toggleable__content {max-height: 200px;max-width: 100%;overflow: auto;}#sk-container-id-1 input.sk-toggleable__control:checked~label.sk-toggleable__label-arrow:before {content: \"▾\";}#sk-container-id-1 div.sk-estimator input.sk-toggleable__control:checked~label.sk-toggleable__label {background-color: #d4ebff;}#sk-container-id-1 div.sk-label input.sk-toggleable__control:checked~label.sk-toggleable__label {background-color: #d4ebff;}#sk-container-id-1 input.sk-hidden--visually {border: 0;clip: rect(1px 1px 1px 1px);clip: rect(1px, 1px, 1px, 1px);height: 1px;margin: -1px;overflow: hidden;padding: 0;position: absolute;width: 1px;}#sk-container-id-1 div.sk-estimator {font-family: monospace;background-color: #f0f8ff;border: 1px dotted black;border-radius: 0.25em;box-sizing: border-box;margin-bottom: 0.5em;}#sk-container-id-1 div.sk-estimator:hover {background-color: #d4ebff;}#sk-container-id-1 div.sk-parallel-item::after {content: \"\";width: 100%;border-bottom: 1px solid gray;flex-grow: 1;}#sk-container-id-1 div.sk-label:hover label.sk-toggleable__label {background-color: #d4ebff;}#sk-container-id-1 div.sk-serial::before {content: \"\";position: absolute;border-left: 1px solid gray;box-sizing: border-box;top: 0;bottom: 0;left: 50%;z-index: 0;}#sk-container-id-1 div.sk-serial {display: flex;flex-direction: column;align-items: center;background-color: white;padding-right: 0.2em;padding-left: 0.2em;position: relative;}#sk-container-id-1 div.sk-item {position: relative;z-index: 1;}#sk-container-id-1 div.sk-parallel {display: flex;align-items: stretch;justify-content: center;background-color: white;position: relative;}#sk-container-id-1 div.sk-item::before, #sk-container-id-1 div.sk-parallel-item::before {content: \"\";position: absolute;border-left: 1px solid gray;box-sizing: border-box;top: 0;bottom: 0;left: 50%;z-index: -1;}#sk-container-id-1 div.sk-parallel-item {display: flex;flex-direction: column;z-index: 1;position: relative;background-color: white;}#sk-container-id-1 div.sk-parallel-item:first-child::after {align-self: flex-end;width: 50%;}#sk-container-id-1 div.sk-parallel-item:last-child::after {align-self: flex-start;width: 50%;}#sk-container-id-1 div.sk-parallel-item:only-child::after {width: 0;}#sk-container-id-1 div.sk-dashed-wrapped {border: 1px dashed gray;margin: 0 0.4em 0.5em 0.4em;box-sizing: border-box;padding-bottom: 0.4em;background-color: white;}#sk-container-id-1 div.sk-label label {font-family: monospace;font-weight: bold;display: inline-block;line-height: 1.2em;}#sk-container-id-1 div.sk-label-container {text-align: center;}#sk-container-id-1 div.sk-container {/* jupyter's `normalize.less` sets `[hidden] { display: none; }` but bootstrap.min.css set `[hidden] { display: none !important; }` so we also need the `!important` here to be able to override the default hidden behavior on the sphinx rendered scikit-learn.org. See: https://github.com/scikit-learn/scikit-learn/issues/21755 */display: inline-block !important;position: relative;}#sk-container-id-1 div.sk-text-repr-fallback {display: none;}</style><div id=\"sk-container-id-1\" class=\"sk-top-container\"><div class=\"sk-text-repr-fallback\"><pre>SequentialFeatureSelector(estimator=RandomForestRegressor(n_jobs=-1),\n",
       "                          k_features=(12, 12), scoring=&#x27;r2&#x27;, verbose=2)</pre><b>In a Jupyter environment, please rerun this cell to show the HTML representation or trust the notebook. <br />On GitHub, the HTML representation is unable to render, please try loading this page with nbviewer.org.</b></div><div class=\"sk-container\" hidden><div class=\"sk-item sk-dashed-wrapped\"><div class=\"sk-label-container\"><div class=\"sk-label sk-toggleable\"><input class=\"sk-toggleable__control sk-hidden--visually\" id=\"sk-estimator-id-1\" type=\"checkbox\" ><label for=\"sk-estimator-id-1\" class=\"sk-toggleable__label sk-toggleable__label-arrow\">SequentialFeatureSelector</label><div class=\"sk-toggleable__content\"><pre>SequentialFeatureSelector(estimator=RandomForestRegressor(n_jobs=-1),\n",
       "                          k_features=(12, 12), scoring=&#x27;r2&#x27;, verbose=2)</pre></div></div></div><div class=\"sk-parallel\"><div class=\"sk-parallel-item\"><div class=\"sk-item\"><div class=\"sk-label-container\"><div class=\"sk-label sk-toggleable\"><input class=\"sk-toggleable__control sk-hidden--visually\" id=\"sk-estimator-id-2\" type=\"checkbox\" ><label for=\"sk-estimator-id-2\" class=\"sk-toggleable__label sk-toggleable__label-arrow\">estimator: RandomForestRegressor</label><div class=\"sk-toggleable__content\"><pre>RandomForestRegressor(n_jobs=-1)</pre></div></div></div><div class=\"sk-serial\"><div class=\"sk-item\"><div class=\"sk-estimator sk-toggleable\"><input class=\"sk-toggleable__control sk-hidden--visually\" id=\"sk-estimator-id-3\" type=\"checkbox\" ><label for=\"sk-estimator-id-3\" class=\"sk-toggleable__label sk-toggleable__label-arrow\">RandomForestRegressor</label><div class=\"sk-toggleable__content\"><pre>RandomForestRegressor(n_jobs=-1)</pre></div></div></div></div></div></div></div></div></div></div>"
      ],
      "text/plain": [
       "SequentialFeatureSelector(estimator=RandomForestRegressor(n_jobs=-1),\n",
       "                          k_features=(12, 12), scoring='r2', verbose=2)"
      ]
     },
     "execution_count": 16,
     "metadata": {},
     "output_type": "execute_result"
    }
   ],
   "source": [
    "forward_feature_selection.fit(X_train, Y_train)\n"
   ]
  },
  {
   "cell_type": "code",
   "execution_count": 17,
   "id": "5f6faec3",
   "metadata": {
    "scrolled": true
   },
   "outputs": [
    {
     "data": {
      "text/plain": [
       "(0, 2, 10, 11, 12, 13, 15, 18, 24, 26, 27, 28)"
      ]
     },
     "execution_count": 17,
     "metadata": {},
     "output_type": "execute_result"
    }
   ],
   "source": [
    "forward_feature_selection.k_feature_idx_"
   ]
  },
  {
   "cell_type": "code",
   "execution_count": 18,
   "id": "913b2057",
   "metadata": {},
   "outputs": [
    {
     "data": {
      "text/plain": [
       "('NssssC',\n",
       " 'NssS',\n",
       " 'PEOE_VSA10',\n",
       " 'PEOE_VSA12',\n",
       " 'SMR_VSA3',\n",
       " 'SMR_VSA4',\n",
       " 'SlogP_VSA5',\n",
       " 'EState_VSA8',\n",
       " 'VSA_EState9',\n",
       " 'naHRing',\n",
       " 'n6aHRing',\n",
       " 'n6ARing')"
      ]
     },
     "execution_count": 18,
     "metadata": {},
     "output_type": "execute_result"
    }
   ],
   "source": [
    "forward_feature_selection.k_feature_names_"
   ]
  },
  {
   "cell_type": "code",
   "execution_count": 19,
   "id": "6e0b3114",
   "metadata": {},
   "outputs": [],
   "source": [
    "from sklearn.metrics import r2_score\n",
    "from sklearn.metrics import mean_squared_error\n",
    "from sklearn.ensemble import GradientBoostingRegressor\n",
    "from sklearn.linear_model import LinearRegression\n"
   ]
  },
  {
   "cell_type": "code",
   "execution_count": 33,
   "id": "de90ad44",
   "metadata": {},
   "outputs": [],
   "source": [
    "mj1=['nS', 'nCl', 'AATS0v', 'ATSC3s', 'NaasC', 'PEOE_VSA11', 'EState_VSA8']\n",
    "mj1=X[mj1].copy()"
   ]
  },
  {
   "cell_type": "code",
   "execution_count": null,
   "id": "8e8abe3a",
   "metadata": {},
   "outputs": [],
   "source": [
    "X_train,X_test,y_train,y_test=train_test_split(mj1,Y,test_size=0.3,random_state=42)\n",
    "mahi1 = GradientBoostingRegressor()\n",
    "\n",
    "# Fit the model to the training data\n",
    "mahi1.fit(X_train, y_train)\n",
    "y_pred = mahi1.predict(X_test)\n",
    "mse = mean_squared_error(y_test, y_pred)\n",
    "r2 = r2_score(y_test, y_pred)\n",
    "print(\"Mean Squared Error:\", mse)\n",
    "print(\"R-squared (R2):\", r2)\n"
   ]
  }
 ],
 "metadata": {
  "kernelspec": {
   "display_name": "Python 3 (ipykernel)",
   "language": "python",
   "name": "python3"
  },
  "language_info": {
   "codemirror_mode": {
    "name": "ipython",
    "version": 3
   },
   "file_extension": ".py",
   "mimetype": "text/x-python",
   "name": "python",
   "nbconvert_exporter": "python",
   "pygments_lexer": "ipython3",
   "version": "3.10.5"
  }
 },
 "nbformat": 4,
 "nbformat_minor": 5
}
